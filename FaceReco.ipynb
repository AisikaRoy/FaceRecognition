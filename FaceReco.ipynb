{
  "nbformat": 4,
  "nbformat_minor": 0,
  "metadata": {
    "colab": {
      "name": "FaceReco.ipynb",
      "provenance": [],
      "collapsed_sections": []
    },
    "kernelspec": {
      "name": "python3",
      "display_name": "Python 3"
    },
    "accelerator": "GPU"
  },
  "cells": [
    {
      "cell_type": "code",
      "metadata": {
        "id": "TA_9SATwu5Rf",
        "colab_type": "code",
        "colab": {}
      },
      "source": [
        "!pip install face_recognition"
      ],
      "execution_count": null,
      "outputs": []
    },
    {
      "cell_type": "code",
      "metadata": {
        "id": "RIMIdLIjzAwk",
        "colab_type": "code",
        "colab": {}
      },
      "source": [
        "from google.colab import drive\n",
        "drive.mount('/content/drive')"
      ],
      "execution_count": null,
      "outputs": []
    },
    {
      "cell_type": "code",
      "metadata": {
        "id": "mXYJpqo1usQy",
        "colab_type": "code",
        "colab": {}
      },
      "source": [
        "from IPython.display import display, Javascript\n",
        "from google.colab.output import eval_js\n",
        "from base64 import b64decode\n",
        "\n",
        "def take_photo(filename='photo.jpg', quality=0.8):\n",
        "  js = Javascript('''\n",
        "    async function takePhoto(quality) {\n",
        "      const div = document.createElement('div');\n",
        "      const capture = document.createElement('button');\n",
        "      capture.textContent = 'Capture';\n",
        "      div.appendChild(capture);\n",
        "\n",
        "      const video = document.createElement('video');\n",
        "      video.style.display = 'block';\n",
        "      const stream = await navigator.mediaDevices.getUserMedia({video: true});\n",
        "\n",
        "      document.body.appendChild(div);\n",
        "      div.appendChild(video);\n",
        "      video.srcObject = stream;\n",
        "      await video.play();\n",
        "\n",
        "      // Resize the output to fit the video element.\n",
        "      google.colab.output.setIframeHeight(document.documentElement.scrollHeight, true);\n",
        "\n",
        "      // Wait for Capture to be clicked.\n",
        "      await new Promise((resolve) => capture.onclick = resolve);\n",
        "\n",
        "      const canvas = document.createElement('canvas');\n",
        "      canvas.width = video.videoWidth;\n",
        "      canvas.height = video.videoHeight;\n",
        "      canvas.getContext('2d').drawImage(video, 0, 0);\n",
        "      stream.getVideoTracks()[0].stop();\n",
        "      div.remove();\n",
        "      return canvas.toDataURL('image/jpeg', quality);\n",
        "    }\n",
        "    ''')\n",
        "  display(js)\n",
        "  data = eval_js('takePhoto({})'.format(quality))\n",
        "  binary = b64decode(data.split(',')[1])\n",
        "  with open(filename, 'wb') as f:\n",
        "    f.write(binary)\n",
        "  return filename"
      ],
      "execution_count": null,
      "outputs": []
    },
    {
      "cell_type": "code",
      "metadata": {
        "id": "2-YKasCiu8bb",
        "colab_type": "code",
        "colab": {}
      },
      "source": [
        "#Login Time (first time)\n",
        "from IPython.display import Image\n",
        "try:\n",
        "  original = take_photo()\n",
        "  print('Original')\n",
        "  \n",
        "  # Show the image which was just taken.\n",
        "  display(Image(original))\n",
        "except Exception as err:\n",
        "  # Errors will be thrown if the user does not have a webcam or if they do not\n",
        "  # grant the page permission to access it.\n",
        "  print(str(err))"
      ],
      "execution_count": null,
      "outputs": []
    },
    {
      "cell_type": "code",
      "metadata": {
        "id": "LuGYgeVozrMG",
        "colab_type": "code",
        "colab": {}
      },
      "source": [
        "from PIL import *\n",
        "import PIL"
      ],
      "execution_count": null,
      "outputs": []
    },
    {
      "cell_type": "code",
      "metadata": {
        "id": "J7S3j_VZ2xE4",
        "colab_type": "code",
        "colab": {}
      },
      "source": [
        "im1 = Image.open(original)  \n",
        "  \n",
        "#save a image using extension \n",
        "im1 = im1.save(\"original.jpg\") "
      ],
      "execution_count": null,
      "outputs": []
    },
    {
      "cell_type": "code",
      "metadata": {
        "id": "aTPAUlSgvP-P",
        "colab_type": "code",
        "colab": {}
      },
      "source": [
        "#During classes or whenever needed for verification\n",
        "from IPython.display import Image\n",
        "try:\n",
        "  test = take_photo()\n",
        "  print('Test')\n",
        "  \n",
        "  # Show the image which was just taken.\n",
        "  #display(Image(Test))\n",
        "except Exception as err:\n",
        "  # Errors will be thrown if the user does not have a webcam or if they do not\n",
        "  # grant the page permission to access it.\n",
        "  print(str(err))"
      ],
      "execution_count": null,
      "outputs": []
    },
    {
      "cell_type": "code",
      "metadata": {
        "id": "srX9DfxSvIfd",
        "colab_type": "code",
        "colab": {}
      },
      "source": [
        "# import the libraries\n",
        "try:\n",
        "  import os\n",
        "  import face_recognition\n",
        "\n",
        "  # make a list of all the available images\n",
        "  #images = os.listdir(r\"/content/drive/My Drive/Deep-Learning-Face-Recognition-master/Datasets/test/xyz\")\n",
        "\n",
        "  # load your image\n",
        "  image_to_be_matched = face_recognition.load_image_file(r\"/content/original.jpg\")\n",
        "\n",
        "  # encoded the loaded image into a feature vector\n",
        "  image_to_be_matched_encoded = face_recognition.face_encodings(\n",
        "    image_to_be_matched)[0]\n",
        "\n",
        "  current_image = face_recognition.load_image_file(test)\n",
        "    # encode the loaded image into a feature vector\n",
        "  current_image_encoded = face_recognition.face_encodings(current_image)[0]\n",
        "    # match your image with the image and check if it matches\n",
        "  result = face_recognition.compare_faces(\n",
        "        [image_to_be_matched_encoded], current_image_encoded)\n",
        "    # check if it was a match\n",
        "  if result[0] == True:\n",
        "      print (\"Matched! You can enter!!!\")\n",
        "  else:\n",
        "      print (\"Not matched! Sorry you are not allowed.\")\n",
        "except IndexError:\n",
        "      print(\"Face not Found\")"
      ],
      "execution_count": null,
      "outputs": []
    },
    {
      "cell_type": "code",
      "metadata": {
        "id": "fp0lQCYOgnI1",
        "colab_type": "code",
        "colab": {}
      },
      "source": [
        "display(Image(test))"
      ],
      "execution_count": null,
      "outputs": []
    },
    {
      "cell_type": "code",
      "metadata": {
        "id": "4CvWjjRnDBA1",
        "colab_type": "code",
        "colab": {}
      },
      "source": [
        ""
      ],
      "execution_count": null,
      "outputs": []
    }
  ]
}